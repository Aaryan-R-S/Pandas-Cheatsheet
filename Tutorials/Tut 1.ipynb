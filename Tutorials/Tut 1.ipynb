{
 "cells": [
  {
   "cell_type": "code",
   "execution_count": 1,
   "metadata": {},
   "outputs": [
    {
     "output_type": "execute_result",
     "data": {
      "text/plain": [
       "'\\nPandas has two types of datasets--\\n1. Series\\n2. Dataframe\\n'"
      ]
     },
     "metadata": {},
     "execution_count": 1
    }
   ],
   "source": [
    "import pandas as pd\n",
    "import numpy as np\n",
    "'''\n",
    "Pandas has two types of datasets--\n",
    "1. Series\n",
    "2. Dataframe\n",
    "'''"
   ]
  },
  {
   "cell_type": "code",
   "execution_count": 2,
   "metadata": {},
   "outputs": [
    {
     "output_type": "stream",
     "name": "stdout",
     "text": [
      "0     0.328369\n1     0.864986\n2     0.590193\n3     0.091586\n4     0.329761\n5     0.126244\n6     0.904685\n7     0.719152\n8     0.608648\n9     0.704840\n10    0.264114\n11    0.818866\n12    0.683495\n13    0.982660\n14    0.487054\n15    0.366837\n16    0.252640\n17    0.094923\n18    0.568012\n19    0.927650\n20    0.494799\n21    0.748189\n22    0.246010\n23    0.499886\n24    0.549645\n25    0.030358\n26    0.726452\n27    0.613826\n28    0.971982\n29    0.759491\n30    0.632543\n31    0.578839\n32    0.040219\n33    0.724887\ndtype: float64\n           0         1         2         3         4\n0   0.546695  0.585909  0.437481  0.820612  0.508923\n1   0.116517  0.647416  0.801122  0.881324  0.578645\n2   0.758204  0.640641  0.626322  0.322458  0.526259\n3   0.223093  0.138434  0.127043  0.239875  0.733461\n4   0.560790  0.419940  0.827129  0.534512  0.121535\n5   0.894021  0.916261  0.918080  0.986780  0.512145\n6   0.287640  0.036746  0.615694  0.305193  0.712488\n7   0.148725  0.832156  0.671779  0.244533  0.219501\n8   0.283902  0.468391  0.996250  0.938449  0.562281\n9   0.537512  0.958410  0.395082  0.908772  0.474709\n10  0.317809  0.265282  0.328287  0.645081  0.513005\n11  0.052996  0.684006  0.738290  0.523197  0.576483\n12  0.951434  0.566568  0.455462  0.830122  0.160939\n13  0.172298  0.732286  0.177910  0.514771  0.165178\n14  0.418874  0.274565  0.339404  0.135870  0.636400\n15  0.817871  0.659662  0.827504  0.903507  0.951173\n16  0.393734  0.604053  0.827457  0.790562  0.710632\n17  0.161495  0.888906  0.690438  0.603652  0.331611\n18  0.606579  0.586689  0.620238  0.618483  0.377888\n19  0.661509  0.227546  0.659997  0.842793  0.462561\n20  0.709534  0.708411  0.462889  0.377074  0.800545\n21  0.172158  0.967806  0.701841  0.399117  0.675442\n22  0.272508  0.444573  0.259668  0.321200  0.911481\n23  0.288046  0.046703  0.536819  0.003236  0.840646\n24  0.632186  0.752416  0.932749  0.394047  0.842710\n25  0.865021  0.153741  0.393308  0.012987  0.802704\n26  0.837379  0.476314  0.118626  0.593367  0.816465\n27  0.796514  0.673960  0.401659  0.419141  0.611344\n28  0.994922  0.474903  0.664137  0.925552  0.903305\n29  0.758537  0.059236  0.784271  0.105410  0.197791\n30  0.443552  0.146769  0.829152  0.148881  0.090505\n31  0.086043  0.219358  0.413864  0.612211  0.516281\n32  0.322941  0.876813  0.218641  0.652735  0.855307\n33  0.144013  0.964964  0.911828  0.024713  0.440907\n"
     ]
    }
   ],
   "source": [
    "series = pd.Series(np.random.rand(34))\n",
    "dataFrame = pd.DataFrame(np.random.rand(34,5))\n",
    "print(series)\n",
    "print(dataFrame)"
   ]
  },
  {
   "cell_type": "code",
   "execution_count": 3,
   "metadata": {},
   "outputs": [
    {
     "output_type": "execute_result",
     "data": {
      "text/plain": [
       "               0          1          2          3          4\n",
       "count  34.000000  34.000000  34.000000  34.000000  34.000000\n",
       "mean    0.477501   0.532348   0.579718   0.517065   0.562978\n",
       "std     0.286620   0.289678   0.249327   0.300539   0.247557\n",
       "min     0.052996   0.036746   0.118626   0.003236   0.090505\n",
       "25%     0.235447   0.267603   0.396726   0.309194   0.446321\n",
       "50%     0.431213   0.586299   0.623280   0.528854   0.569382\n",
       "75%     0.746036   0.726317   0.796909   0.813099   0.783774\n",
       "max     0.994922   0.967806   0.996250   0.986780   0.951173"
      ],
      "text/html": "<div>\n<style scoped>\n    .dataframe tbody tr th:only-of-type {\n        vertical-align: middle;\n    }\n\n    .dataframe tbody tr th {\n        vertical-align: top;\n    }\n\n    .dataframe thead th {\n        text-align: right;\n    }\n</style>\n<table border=\"1\" class=\"dataframe\">\n  <thead>\n    <tr style=\"text-align: right;\">\n      <th></th>\n      <th>0</th>\n      <th>1</th>\n      <th>2</th>\n      <th>3</th>\n      <th>4</th>\n    </tr>\n  </thead>\n  <tbody>\n    <tr>\n      <th>count</th>\n      <td>34.000000</td>\n      <td>34.000000</td>\n      <td>34.000000</td>\n      <td>34.000000</td>\n      <td>34.000000</td>\n    </tr>\n    <tr>\n      <th>mean</th>\n      <td>0.477501</td>\n      <td>0.532348</td>\n      <td>0.579718</td>\n      <td>0.517065</td>\n      <td>0.562978</td>\n    </tr>\n    <tr>\n      <th>std</th>\n      <td>0.286620</td>\n      <td>0.289678</td>\n      <td>0.249327</td>\n      <td>0.300539</td>\n      <td>0.247557</td>\n    </tr>\n    <tr>\n      <th>min</th>\n      <td>0.052996</td>\n      <td>0.036746</td>\n      <td>0.118626</td>\n      <td>0.003236</td>\n      <td>0.090505</td>\n    </tr>\n    <tr>\n      <th>25%</th>\n      <td>0.235447</td>\n      <td>0.267603</td>\n      <td>0.396726</td>\n      <td>0.309194</td>\n      <td>0.446321</td>\n    </tr>\n    <tr>\n      <th>50%</th>\n      <td>0.431213</td>\n      <td>0.586299</td>\n      <td>0.623280</td>\n      <td>0.528854</td>\n      <td>0.569382</td>\n    </tr>\n    <tr>\n      <th>75%</th>\n      <td>0.746036</td>\n      <td>0.726317</td>\n      <td>0.796909</td>\n      <td>0.813099</td>\n      <td>0.783774</td>\n    </tr>\n    <tr>\n      <th>max</th>\n      <td>0.994922</td>\n      <td>0.967806</td>\n      <td>0.996250</td>\n      <td>0.986780</td>\n      <td>0.951173</td>\n    </tr>\n  </tbody>\n</table>\n</div>"
     },
     "metadata": {},
     "execution_count": 3
    }
   ],
   "source": [
    "dataFrame.describe()\n",
    "# dataFrame[0][0] = 'lol'\n",
    "# dataFrame.describe()\n",
    "\n",
    "# dataFrame.dropna()  # remove complete rows or coloumns where NaN is present\n",
    "# dataFrame.drop_duplicates()   # remove duplicates\n",
    "\n",
    "# imp funcs for analysis\n",
    "# dataFrame.mean()\n",
    "# dataFrame.std()\n",
    "# dataFrame.count() \n",
    "# dataFrame.max()\n",
    "# dataFrame.min()\n",
    "# dataFrame.median()"
   ]
  },
  {
   "cell_type": "code",
   "execution_count": 4,
   "metadata": {},
   "outputs": [
    {
     "output_type": "execute_result",
     "data": {
      "text/plain": [
       "           1         2         3         4\n",
       "0   0.585909  0.437481  0.820612  0.508923\n",
       "1   0.647416  0.801122  0.881324  0.578645\n",
       "2   0.640641  0.626322  0.322458  0.526259\n",
       "3   0.138434  0.127043  0.239875  0.733461\n",
       "4   0.419940  0.827129  0.534512  0.121535\n",
       "5   0.916261  0.918080  0.986780  0.512145\n",
       "6   0.036746  0.615694  0.305193  0.712488\n",
       "7   0.832156  0.671779  0.244533  0.219501\n",
       "8   0.468391  0.996250  0.938449  0.562281\n",
       "9   0.958410  0.395082  0.908772  0.474709\n",
       "10  0.265282  0.328287  0.645081  0.513005\n",
       "11  0.684006  0.738290  0.523197  0.576483\n",
       "12  0.566568  0.455462  0.830122  0.160939\n",
       "13  0.732286  0.177910  0.514771  0.165178\n",
       "14  0.274565  0.339404  0.135870  0.636400\n",
       "15  0.659662  0.827504  0.903507  0.951173\n",
       "16  0.604053  0.827457  0.790562  0.710632\n",
       "17  0.888906  0.690438  0.603652  0.331611\n",
       "18  0.586689  0.620238  0.618483  0.377888\n",
       "19  0.227546  0.659997  0.842793  0.462561\n",
       "20  0.708411  0.462889  0.377074  0.800545\n",
       "21  0.967806  0.701841  0.399117  0.675442\n",
       "22  0.444573  0.259668  0.321200  0.911481\n",
       "23  0.046703  0.536819  0.003236  0.840646\n",
       "24  0.752416  0.932749  0.394047  0.842710\n",
       "25  0.153741  0.393308  0.012987  0.802704\n",
       "26  0.476314  0.118626  0.593367  0.816465\n",
       "27  0.673960  0.401659  0.419141  0.611344\n",
       "28  0.474903  0.664137  0.925552  0.903305\n",
       "29  0.059236  0.784271  0.105410  0.197791\n",
       "30  0.146769  0.829152  0.148881  0.090505\n",
       "31  0.219358  0.413864  0.612211  0.516281\n",
       "32  0.876813  0.218641  0.652735  0.855307\n",
       "33  0.964964  0.911828  0.024713  0.440907"
      ],
      "text/html": "<div>\n<style scoped>\n    .dataframe tbody tr th:only-of-type {\n        vertical-align: middle;\n    }\n\n    .dataframe tbody tr th {\n        vertical-align: top;\n    }\n\n    .dataframe thead th {\n        text-align: right;\n    }\n</style>\n<table border=\"1\" class=\"dataframe\">\n  <thead>\n    <tr style=\"text-align: right;\">\n      <th></th>\n      <th>1</th>\n      <th>2</th>\n      <th>3</th>\n      <th>4</th>\n    </tr>\n  </thead>\n  <tbody>\n    <tr>\n      <th>0</th>\n      <td>0.585909</td>\n      <td>0.437481</td>\n      <td>0.820612</td>\n      <td>0.508923</td>\n    </tr>\n    <tr>\n      <th>1</th>\n      <td>0.647416</td>\n      <td>0.801122</td>\n      <td>0.881324</td>\n      <td>0.578645</td>\n    </tr>\n    <tr>\n      <th>2</th>\n      <td>0.640641</td>\n      <td>0.626322</td>\n      <td>0.322458</td>\n      <td>0.526259</td>\n    </tr>\n    <tr>\n      <th>3</th>\n      <td>0.138434</td>\n      <td>0.127043</td>\n      <td>0.239875</td>\n      <td>0.733461</td>\n    </tr>\n    <tr>\n      <th>4</th>\n      <td>0.419940</td>\n      <td>0.827129</td>\n      <td>0.534512</td>\n      <td>0.121535</td>\n    </tr>\n    <tr>\n      <th>5</th>\n      <td>0.916261</td>\n      <td>0.918080</td>\n      <td>0.986780</td>\n      <td>0.512145</td>\n    </tr>\n    <tr>\n      <th>6</th>\n      <td>0.036746</td>\n      <td>0.615694</td>\n      <td>0.305193</td>\n      <td>0.712488</td>\n    </tr>\n    <tr>\n      <th>7</th>\n      <td>0.832156</td>\n      <td>0.671779</td>\n      <td>0.244533</td>\n      <td>0.219501</td>\n    </tr>\n    <tr>\n      <th>8</th>\n      <td>0.468391</td>\n      <td>0.996250</td>\n      <td>0.938449</td>\n      <td>0.562281</td>\n    </tr>\n    <tr>\n      <th>9</th>\n      <td>0.958410</td>\n      <td>0.395082</td>\n      <td>0.908772</td>\n      <td>0.474709</td>\n    </tr>\n    <tr>\n      <th>10</th>\n      <td>0.265282</td>\n      <td>0.328287</td>\n      <td>0.645081</td>\n      <td>0.513005</td>\n    </tr>\n    <tr>\n      <th>11</th>\n      <td>0.684006</td>\n      <td>0.738290</td>\n      <td>0.523197</td>\n      <td>0.576483</td>\n    </tr>\n    <tr>\n      <th>12</th>\n      <td>0.566568</td>\n      <td>0.455462</td>\n      <td>0.830122</td>\n      <td>0.160939</td>\n    </tr>\n    <tr>\n      <th>13</th>\n      <td>0.732286</td>\n      <td>0.177910</td>\n      <td>0.514771</td>\n      <td>0.165178</td>\n    </tr>\n    <tr>\n      <th>14</th>\n      <td>0.274565</td>\n      <td>0.339404</td>\n      <td>0.135870</td>\n      <td>0.636400</td>\n    </tr>\n    <tr>\n      <th>15</th>\n      <td>0.659662</td>\n      <td>0.827504</td>\n      <td>0.903507</td>\n      <td>0.951173</td>\n    </tr>\n    <tr>\n      <th>16</th>\n      <td>0.604053</td>\n      <td>0.827457</td>\n      <td>0.790562</td>\n      <td>0.710632</td>\n    </tr>\n    <tr>\n      <th>17</th>\n      <td>0.888906</td>\n      <td>0.690438</td>\n      <td>0.603652</td>\n      <td>0.331611</td>\n    </tr>\n    <tr>\n      <th>18</th>\n      <td>0.586689</td>\n      <td>0.620238</td>\n      <td>0.618483</td>\n      <td>0.377888</td>\n    </tr>\n    <tr>\n      <th>19</th>\n      <td>0.227546</td>\n      <td>0.659997</td>\n      <td>0.842793</td>\n      <td>0.462561</td>\n    </tr>\n    <tr>\n      <th>20</th>\n      <td>0.708411</td>\n      <td>0.462889</td>\n      <td>0.377074</td>\n      <td>0.800545</td>\n    </tr>\n    <tr>\n      <th>21</th>\n      <td>0.967806</td>\n      <td>0.701841</td>\n      <td>0.399117</td>\n      <td>0.675442</td>\n    </tr>\n    <tr>\n      <th>22</th>\n      <td>0.444573</td>\n      <td>0.259668</td>\n      <td>0.321200</td>\n      <td>0.911481</td>\n    </tr>\n    <tr>\n      <th>23</th>\n      <td>0.046703</td>\n      <td>0.536819</td>\n      <td>0.003236</td>\n      <td>0.840646</td>\n    </tr>\n    <tr>\n      <th>24</th>\n      <td>0.752416</td>\n      <td>0.932749</td>\n      <td>0.394047</td>\n      <td>0.842710</td>\n    </tr>\n    <tr>\n      <th>25</th>\n      <td>0.153741</td>\n      <td>0.393308</td>\n      <td>0.012987</td>\n      <td>0.802704</td>\n    </tr>\n    <tr>\n      <th>26</th>\n      <td>0.476314</td>\n      <td>0.118626</td>\n      <td>0.593367</td>\n      <td>0.816465</td>\n    </tr>\n    <tr>\n      <th>27</th>\n      <td>0.673960</td>\n      <td>0.401659</td>\n      <td>0.419141</td>\n      <td>0.611344</td>\n    </tr>\n    <tr>\n      <th>28</th>\n      <td>0.474903</td>\n      <td>0.664137</td>\n      <td>0.925552</td>\n      <td>0.903305</td>\n    </tr>\n    <tr>\n      <th>29</th>\n      <td>0.059236</td>\n      <td>0.784271</td>\n      <td>0.105410</td>\n      <td>0.197791</td>\n    </tr>\n    <tr>\n      <th>30</th>\n      <td>0.146769</td>\n      <td>0.829152</td>\n      <td>0.148881</td>\n      <td>0.090505</td>\n    </tr>\n    <tr>\n      <th>31</th>\n      <td>0.219358</td>\n      <td>0.413864</td>\n      <td>0.612211</td>\n      <td>0.516281</td>\n    </tr>\n    <tr>\n      <th>32</th>\n      <td>0.876813</td>\n      <td>0.218641</td>\n      <td>0.652735</td>\n      <td>0.855307</td>\n    </tr>\n    <tr>\n      <th>33</th>\n      <td>0.964964</td>\n      <td>0.911828</td>\n      <td>0.024713</td>\n      <td>0.440907</td>\n    </tr>\n  </tbody>\n</table>\n</div>"
     },
     "metadata": {},
     "execution_count": 4
    }
   ],
   "source": [
    "dataFrame.drop(0, axis=1)     # delete any row or column"
   ]
  },
  {
   "cell_type": "code",
   "execution_count": 5,
   "metadata": {},
   "outputs": [
    {
     "output_type": "stream",
     "name": "stdout",
     "text": [
      "Empty DataFrame\nColumns: []\nIndex: []\n"
     ]
    }
   ],
   "source": [
    "a = pd.DataFrame()\n",
    "print(a)"
   ]
  },
  {
   "cell_type": "code",
   "execution_count": 6,
   "metadata": {},
   "outputs": [
    {
     "output_type": "stream",
     "name": "stdout",
     "text": [
      "    0   1   2   3    4\n0   4   5   1   5  9.0\n1   8   6   5   7  NaN\n2   6   2   3   0  NaN\n3  25  40  53  67  NaN\n"
     ]
    }
   ],
   "source": [
    "a = pd.DataFrame([[4,5,1,5,9],[8,6,5,7],[6,2,3,0],[25,40,53,67]])\n",
    "print(a)\n",
    "a.to_csv('export5.csv', index=False, na_rep=\"Oops!\", header=['A', 'B','C','D','E'])"
   ]
  },
  {
   "cell_type": "code",
   "execution_count": 7,
   "metadata": {},
   "outputs": [
    {
     "output_type": "execute_result",
     "data": {
      "text/plain": [
       "    0   1   2   3   4\n",
       "2   6   2   3   0 NaN\n",
       "3  25  40  53  67 NaN"
      ],
      "text/html": "<div>\n<style scoped>\n    .dataframe tbody tr th:only-of-type {\n        vertical-align: middle;\n    }\n\n    .dataframe tbody tr th {\n        vertical-align: top;\n    }\n\n    .dataframe thead th {\n        text-align: right;\n    }\n</style>\n<table border=\"1\" class=\"dataframe\">\n  <thead>\n    <tr style=\"text-align: right;\">\n      <th></th>\n      <th>0</th>\n      <th>1</th>\n      <th>2</th>\n      <th>3</th>\n      <th>4</th>\n    </tr>\n  </thead>\n  <tbody>\n    <tr>\n      <th>2</th>\n      <td>6</td>\n      <td>2</td>\n      <td>3</td>\n      <td>0</td>\n      <td>NaN</td>\n    </tr>\n    <tr>\n      <th>3</th>\n      <td>25</td>\n      <td>40</td>\n      <td>53</td>\n      <td>67</td>\n      <td>NaN</td>\n    </tr>\n  </tbody>\n</table>\n</div>"
     },
     "metadata": {},
     "execution_count": 7
    }
   ],
   "source": [
    "a.head(1)     # this is slicing from top\n",
    "a.tail(2)     # this is slicing from bottom\n",
    "a.tail(2)     # this is slicing from bottom and "
   ]
  },
  {
   "cell_type": "code",
   "execution_count": 8,
   "metadata": {},
   "outputs": [
    {
     "output_type": "execute_result",
     "data": {
      "text/plain": [
       "(4, 5)"
      ]
     },
     "metadata": {},
     "execution_count": 8
    }
   ],
   "source": [
    "a.shape"
   ]
  },
  {
   "cell_type": "code",
   "execution_count": 12,
   "metadata": {},
   "outputs": [
    {
     "output_type": "execute_result",
     "data": {
      "text/plain": [
       "    2\n",
       "3  53"
      ],
      "text/html": "<div>\n<style scoped>\n    .dataframe tbody tr th:only-of-type {\n        vertical-align: middle;\n    }\n\n    .dataframe tbody tr th {\n        vertical-align: top;\n    }\n\n    .dataframe thead th {\n        text-align: right;\n    }\n</style>\n<table border=\"1\" class=\"dataframe\">\n  <thead>\n    <tr style=\"text-align: right;\">\n      <th></th>\n      <th>2</th>\n    </tr>\n  </thead>\n  <tbody>\n    <tr>\n      <th>3</th>\n      <td>53</td>\n    </tr>\n  </tbody>\n</table>\n</div>"
     },
     "metadata": {},
     "execution_count": 12
    }
   ],
   "source": [
    "'''\n",
    "loc for names\n",
    "iloc for indexes\n",
    "'''\n",
    "a.iloc[3,2]\n",
    "# -----OR----\n",
    "a.iloc[3:4,2:3]"
   ]
  },
  {
   "cell_type": "code",
   "execution_count": 17,
   "metadata": {},
   "outputs": [
    {
     "output_type": "execute_result",
     "data": {
      "text/plain": [
       "    1   2   3\n",
       "2   2   3   0\n",
       "3  40  53  67"
      ],
      "text/html": "<div>\n<style scoped>\n    .dataframe tbody tr th:only-of-type {\n        vertical-align: middle;\n    }\n\n    .dataframe tbody tr th {\n        vertical-align: top;\n    }\n\n    .dataframe thead th {\n        text-align: right;\n    }\n</style>\n<table border=\"1\" class=\"dataframe\">\n  <thead>\n    <tr style=\"text-align: right;\">\n      <th></th>\n      <th>1</th>\n      <th>2</th>\n      <th>3</th>\n    </tr>\n  </thead>\n  <tbody>\n    <tr>\n      <th>2</th>\n      <td>2</td>\n      <td>3</td>\n      <td>0</td>\n    </tr>\n    <tr>\n      <th>3</th>\n      <td>40</td>\n      <td>53</td>\n      <td>67</td>\n    </tr>\n  </tbody>\n</table>\n</div>"
     },
     "metadata": {},
     "execution_count": 17
    }
   ],
   "source": [
    "a.iloc[2:4, 1:4]\n",
    "# -----OR----\n",
    "a.iloc[[2,3],[1,2,3]]"
   ]
  },
  {
   "cell_type": "code",
   "execution_count": 8,
   "metadata": {},
   "outputs": [
    {
     "output_type": "stream",
     "name": "stdout",
     "text": [
      "    A   B     C   D    E\n0   4   5   1.0   5  9.0\n1   8   6   5.0   7  NaN\n2   6   2   NaN   0  NaN\n3  25  40  53.0  67  NaN\n"
     ]
    }
   ],
   "source": [
    "a = pd.DataFrame([[4,5,1,5,9],[8,6,5,7],[6,2,None,0],[25,40,53,67]], columns=[\"A\", 'B','C','D','E'])\n",
    "print(a)      # change columns name not row default"
   ]
  },
  {
   "cell_type": "code",
   "execution_count": 9,
   "metadata": {},
   "outputs": [
    {
     "output_type": "stream",
     "name": "stdout",
     "text": [
      "          SYMBOL SERIES         DATE1  PREV_CLOSE  OPEN_PRICE  HIGH_PRICE  \\\n0      20MICRONS     EQ   24-Dec-2020       40.15       40.65       40.95   \n1     21STCENMGM     EQ   24-Dec-2020       10.25       10.35       10.35   \n2     3IINFOTECH     EQ   24-Dec-2020        5.15        5.40        5.40   \n3        3MINDIA     EQ   24-Dec-2020    21077.15    21280.00    21290.00   \n4         3PLAND     EQ   24-Dec-2020        9.30        8.85        9.75   \n...          ...    ...           ...         ...         ...         ...   \n2005   ZODJRDMKJ     EQ   24-Dec-2020       28.30       28.55       29.90   \n2006        ZOTA     EQ   24-Dec-2020      144.20      147.00      147.00   \n2007       ZUARI     EQ   24-Dec-2020       90.55       91.00       94.00   \n2008   ZUARIGLOB     EQ   24-Dec-2020       62.85       63.95       64.05   \n2009   ZYDUSWELL     EQ   24-Dec-2020     1904.75     1919.00     2010.00   \n\n      LOW_PRICE LAST_PRICE  CLOSE_PRICE  AVG_PRICE  TTL_TRD_QNTY  \\\n0         36.25      37.85        37.80      38.67        444734   \n1         10.05      10.05        10.05      10.10          3047   \n2          5.40        5.4         5.40       5.40       1841070   \n3      21100.00      21150     21153.20   21170.13          2538   \n4          8.85       9.75         9.75       9.32          4718   \n...         ...        ...          ...        ...           ...   \n2005      28.15       28.3        28.30      28.44          1648   \n2006     143.00      146.9       146.65     145.33         16596   \n2007      91.00         93        92.45      92.45        235368   \n2008      61.45      62.45        62.55      63.22        269999   \n2009    1886.00       1910      1947.60    1934.75         53382   \n\n      TURNOVER_LACS  NO_OF_TRADES DELIV_QTY DELIV_PER  \n0            171.97          2741    212456     47.77  \n1              0.31            20      2448     80.34  \n2             99.42           863   1841070       100  \n3            537.30          1618      1450     57.13  \n4              0.44            24      4528     95.97  \n...             ...           ...       ...       ...  \n2005           0.47            37      1375     83.43  \n2006          24.12           133      4197     25.29  \n2007         217.60           881    214993     91.34  \n2008         170.69          1363    242654     89.87  \n2009        1032.81          6375     39197     73.43  \n\n[2010 rows x 15 columns]\n"
     ]
    }
   ],
   "source": [
    "b = pd.read_csv('sample5.csv')\n",
    "print(b)\n",
    "# print(b.to_string())   # to print entire table"
   ]
  },
  {
   "cell_type": "code",
   "execution_count": 10,
   "metadata": {
    "scrolled": true
   },
   "outputs": [
    {
     "output_type": "execute_result",
     "data": {
      "text/plain": [
       "       SYMBOL SERIES         DATE1  PREV_CLOSE  OPEN_PRICE  HIGH_PRICE  \\\n",
       "0   20MICRONS     EQ   24-Dec-2020       40.15       40.65       40.95   \n",
       "1  21STCENMGM     EQ   24-Dec-2020       10.25       10.35       10.35   \n",
       "2  3IINFOTECH     EQ   24-Dec-2020        5.15        5.40        5.40   \n",
       "3     3MINDIA     EQ   24-Dec-2020    21077.15    21280.00    21290.00   \n",
       "4      3PLAND     EQ   24-Dec-2020        9.30        8.85        9.75   \n",
       "\n",
       "   LOW_PRICE LAST_PRICE  CLOSE_PRICE  AVG_PRICE  TTL_TRD_QNTY  TURNOVER_LACS  \\\n",
       "0      36.25      37.85        37.80      38.67        444734         171.97   \n",
       "1      10.05      10.05        10.05      10.10          3047           0.31   \n",
       "2       5.40        5.4         5.40       5.40       1841070          99.42   \n",
       "3   21100.00      21150     21153.20   21170.13          2538         537.30   \n",
       "4       8.85       9.75         9.75       9.32          4718           0.44   \n",
       "\n",
       "   NO_OF_TRADES DELIV_QTY DELIV_PER  \n",
       "0          2741    212456     47.77  \n",
       "1            20      2448     80.34  \n",
       "2           863   1841070       100  \n",
       "3          1618      1450     57.13  \n",
       "4            24      4528     95.97  "
      ],
      "text/html": "<div>\n<style scoped>\n    .dataframe tbody tr th:only-of-type {\n        vertical-align: middle;\n    }\n\n    .dataframe tbody tr th {\n        vertical-align: top;\n    }\n\n    .dataframe thead th {\n        text-align: right;\n    }\n</style>\n<table border=\"1\" class=\"dataframe\">\n  <thead>\n    <tr style=\"text-align: right;\">\n      <th></th>\n      <th>SYMBOL</th>\n      <th>SERIES</th>\n      <th>DATE1</th>\n      <th>PREV_CLOSE</th>\n      <th>OPEN_PRICE</th>\n      <th>HIGH_PRICE</th>\n      <th>LOW_PRICE</th>\n      <th>LAST_PRICE</th>\n      <th>CLOSE_PRICE</th>\n      <th>AVG_PRICE</th>\n      <th>TTL_TRD_QNTY</th>\n      <th>TURNOVER_LACS</th>\n      <th>NO_OF_TRADES</th>\n      <th>DELIV_QTY</th>\n      <th>DELIV_PER</th>\n    </tr>\n  </thead>\n  <tbody>\n    <tr>\n      <th>0</th>\n      <td>20MICRONS</td>\n      <td>EQ</td>\n      <td>24-Dec-2020</td>\n      <td>40.15</td>\n      <td>40.65</td>\n      <td>40.95</td>\n      <td>36.25</td>\n      <td>37.85</td>\n      <td>37.80</td>\n      <td>38.67</td>\n      <td>444734</td>\n      <td>171.97</td>\n      <td>2741</td>\n      <td>212456</td>\n      <td>47.77</td>\n    </tr>\n    <tr>\n      <th>1</th>\n      <td>21STCENMGM</td>\n      <td>EQ</td>\n      <td>24-Dec-2020</td>\n      <td>10.25</td>\n      <td>10.35</td>\n      <td>10.35</td>\n      <td>10.05</td>\n      <td>10.05</td>\n      <td>10.05</td>\n      <td>10.10</td>\n      <td>3047</td>\n      <td>0.31</td>\n      <td>20</td>\n      <td>2448</td>\n      <td>80.34</td>\n    </tr>\n    <tr>\n      <th>2</th>\n      <td>3IINFOTECH</td>\n      <td>EQ</td>\n      <td>24-Dec-2020</td>\n      <td>5.15</td>\n      <td>5.40</td>\n      <td>5.40</td>\n      <td>5.40</td>\n      <td>5.4</td>\n      <td>5.40</td>\n      <td>5.40</td>\n      <td>1841070</td>\n      <td>99.42</td>\n      <td>863</td>\n      <td>1841070</td>\n      <td>100</td>\n    </tr>\n    <tr>\n      <th>3</th>\n      <td>3MINDIA</td>\n      <td>EQ</td>\n      <td>24-Dec-2020</td>\n      <td>21077.15</td>\n      <td>21280.00</td>\n      <td>21290.00</td>\n      <td>21100.00</td>\n      <td>21150</td>\n      <td>21153.20</td>\n      <td>21170.13</td>\n      <td>2538</td>\n      <td>537.30</td>\n      <td>1618</td>\n      <td>1450</td>\n      <td>57.13</td>\n    </tr>\n    <tr>\n      <th>4</th>\n      <td>3PLAND</td>\n      <td>EQ</td>\n      <td>24-Dec-2020</td>\n      <td>9.30</td>\n      <td>8.85</td>\n      <td>9.75</td>\n      <td>8.85</td>\n      <td>9.75</td>\n      <td>9.75</td>\n      <td>9.32</td>\n      <td>4718</td>\n      <td>0.44</td>\n      <td>24</td>\n      <td>4528</td>\n      <td>95.97</td>\n    </tr>\n  </tbody>\n</table>\n</div>"
     },
     "metadata": {},
     "execution_count": 10
    }
   ],
   "source": [
    "b.head()"
   ]
  },
  {
   "cell_type": "code",
   "execution_count": 12,
   "metadata": {},
   "outputs": [
    {
     "output_type": "stream",
     "name": "stdout",
     "text": [
      "object\nfloat64\n \n0          38.67\n1          10.10\n2           5.40\n3       21170.13\n4           9.32\n          ...   \n2005       28.44\n2006      145.33\n2007       92.45\n2008       63.22\n2009     1934.75\nName: AVG_PRICE, Length: 2010, dtype: float64\n"
     ]
    },
    {
     "output_type": "execute_result",
     "data": {
      "text/plain": [
       "15.69"
      ]
     },
     "metadata": {},
     "execution_count": 12
    }
   ],
   "source": [
    "print(b['SYMBOL'].dtype)\n",
    "print(b['AVG_PRICE'].dtype)\n",
    "print(\" \")\n",
    "print(b['AVG_PRICE'])\n",
    "b['AVG_PRICE'][334]"
   ]
  },
  {
   "cell_type": "code",
   "execution_count": null,
   "metadata": {},
   "outputs": [],
   "source": []
  }
 ],
 "metadata": {
  "kernelspec": {
   "display_name": "Python 3",
   "language": "python",
   "name": "python3"
  },
  "language_info": {
   "codemirror_mode": {
    "name": "ipython",
    "version": 3
   },
   "file_extension": ".py",
   "mimetype": "text/x-python",
   "name": "python",
   "nbconvert_exporter": "python",
   "pygments_lexer": "ipython3",
   "version": "3.8.2-final"
  }
 },
 "nbformat": 4,
 "nbformat_minor": 2
}