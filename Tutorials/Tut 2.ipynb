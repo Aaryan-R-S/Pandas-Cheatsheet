{
 "metadata": {
  "language_info": {
   "codemirror_mode": {
    "name": "ipython",
    "version": 3
   },
   "file_extension": ".py",
   "mimetype": "text/x-python",
   "name": "python",
   "nbconvert_exporter": "python",
   "pygments_lexer": "ipython3",
   "version": "3.8.2-final"
  },
  "orig_nbformat": 2,
  "kernelspec": {
   "name": "python3",
   "display_name": "Python 3",
   "language": "python"
  }
 },
 "nbformat": 4,
 "nbformat_minor": 2,
 "cells": [
  {
   "cell_type": "code",
   "execution_count": 2,
   "metadata": {},
   "outputs": [
    {
     "output_type": "execute_result",
     "data": {
      "text/plain": [
       "   A  B  C\n",
       "0  2  4  2\n",
       "1  3  1  2\n",
       "2  7  8  9"
      ],
      "text/html": "<div>\n<style scoped>\n    .dataframe tbody tr th:only-of-type {\n        vertical-align: middle;\n    }\n\n    .dataframe tbody tr th {\n        vertical-align: top;\n    }\n\n    .dataframe thead th {\n        text-align: right;\n    }\n</style>\n<table border=\"1\" class=\"dataframe\">\n  <thead>\n    <tr style=\"text-align: right;\">\n      <th></th>\n      <th>A</th>\n      <th>B</th>\n      <th>C</th>\n    </tr>\n  </thead>\n  <tbody>\n    <tr>\n      <th>0</th>\n      <td>2</td>\n      <td>4</td>\n      <td>2</td>\n    </tr>\n    <tr>\n      <th>1</th>\n      <td>3</td>\n      <td>1</td>\n      <td>2</td>\n    </tr>\n    <tr>\n      <th>2</th>\n      <td>7</td>\n      <td>8</td>\n      <td>9</td>\n    </tr>\n  </tbody>\n</table>\n</div>"
     },
     "metadata": {},
     "execution_count": 2
    }
   ],
   "source": [
    "import pandas as pd\n",
    "\n",
    "#  to read particular sheet from excel file--------------\n",
    "# df = pd.read_excel('nameOfExcelFile.xlsx', sheet_name='Sheet2')\n",
    "\n",
    "#  to write excel file within particular sheet--------------\n",
    "# with pd.ExcelWriter('nameOfExcelFile.xlsx') as w:\n",
    "#     df1.to_excel(w, sheet_name='First')\n",
    "#     df2.to_excel(w, sheet_name='Second')\n",
    "\n",
    "\n",
    "df1 = pd.DataFrame([[2,4,2],[3,1,2],[7,8,9]], columns=['A','B','C'])\n",
    "df1"
   ]
  },
  {
   "cell_type": "code",
   "execution_count": 3,
   "metadata": {},
   "outputs": [
    {
     "output_type": "execute_result",
     "data": {
      "text/plain": [
       "    X  Y   Z\n",
       "0  11  8   5\n",
       "1   2  4   1\n",
       "2  78  1  34"
      ],
      "text/html": "<div>\n<style scoped>\n    .dataframe tbody tr th:only-of-type {\n        vertical-align: middle;\n    }\n\n    .dataframe tbody tr th {\n        vertical-align: top;\n    }\n\n    .dataframe thead th {\n        text-align: right;\n    }\n</style>\n<table border=\"1\" class=\"dataframe\">\n  <thead>\n    <tr style=\"text-align: right;\">\n      <th></th>\n      <th>X</th>\n      <th>Y</th>\n      <th>Z</th>\n    </tr>\n  </thead>\n  <tbody>\n    <tr>\n      <th>0</th>\n      <td>11</td>\n      <td>8</td>\n      <td>5</td>\n    </tr>\n    <tr>\n      <th>1</th>\n      <td>2</td>\n      <td>4</td>\n      <td>1</td>\n    </tr>\n    <tr>\n      <th>2</th>\n      <td>78</td>\n      <td>1</td>\n      <td>34</td>\n    </tr>\n  </tbody>\n</table>\n</div>"
     },
     "metadata": {},
     "execution_count": 3
    }
   ],
   "source": [
    "df2 = pd.DataFrame([[11,8,5],[2,4,1],[78,1,34]], columns=['X','Y','Z'])\n",
    "df2"
   ]
  },
  {
   "cell_type": "code",
   "execution_count": 4,
   "metadata": {},
   "outputs": [
    {
     "output_type": "execute_result",
     "data": {
      "text/plain": [
       "   A  B  C   X  Y   Z\n",
       "0  2  4  2   2  4   1\n",
       "1  3  1  2  78  1  34\n",
       "2  7  8  9  11  8   5"
      ],
      "text/html": "<div>\n<style scoped>\n    .dataframe tbody tr th:only-of-type {\n        vertical-align: middle;\n    }\n\n    .dataframe tbody tr th {\n        vertical-align: top;\n    }\n\n    .dataframe thead th {\n        text-align: right;\n    }\n</style>\n<table border=\"1\" class=\"dataframe\">\n  <thead>\n    <tr style=\"text-align: right;\">\n      <th></th>\n      <th>A</th>\n      <th>B</th>\n      <th>C</th>\n      <th>X</th>\n      <th>Y</th>\n      <th>Z</th>\n    </tr>\n  </thead>\n  <tbody>\n    <tr>\n      <th>0</th>\n      <td>2</td>\n      <td>4</td>\n      <td>2</td>\n      <td>2</td>\n      <td>4</td>\n      <td>1</td>\n    </tr>\n    <tr>\n      <th>1</th>\n      <td>3</td>\n      <td>1</td>\n      <td>2</td>\n      <td>78</td>\n      <td>1</td>\n      <td>34</td>\n    </tr>\n    <tr>\n      <th>2</th>\n      <td>7</td>\n      <td>8</td>\n      <td>9</td>\n      <td>11</td>\n      <td>8</td>\n      <td>5</td>\n    </tr>\n  </tbody>\n</table>\n</div>"
     },
     "metadata": {},
     "execution_count": 4
    }
   ],
   "source": [
    "df3 = pd.merge(df1, df2, right_on='Y', left_on='B')\n",
    "df3                   # merge means to map the equal values"
   ]
  },
  {
   "cell_type": "code",
   "execution_count": 9,
   "metadata": {},
   "outputs": [
    {
     "output_type": "execute_result",
     "data": {
      "text/plain": [
       "  name  marks     city\n",
       "0    A   97.0    Delhi\n",
       "1    B   94.0   Mumbai\n",
       "2    C    NaN  Chennai\n",
       "3    D   96.0    Assam"
      ],
      "text/html": "<div>\n<style scoped>\n    .dataframe tbody tr th:only-of-type {\n        vertical-align: middle;\n    }\n\n    .dataframe tbody tr th {\n        vertical-align: top;\n    }\n\n    .dataframe thead th {\n        text-align: right;\n    }\n</style>\n<table border=\"1\" class=\"dataframe\">\n  <thead>\n    <tr style=\"text-align: right;\">\n      <th></th>\n      <th>name</th>\n      <th>marks</th>\n      <th>city</th>\n    </tr>\n  </thead>\n  <tbody>\n    <tr>\n      <th>0</th>\n      <td>A</td>\n      <td>97.0</td>\n      <td>Delhi</td>\n    </tr>\n    <tr>\n      <th>1</th>\n      <td>B</td>\n      <td>94.0</td>\n      <td>Mumbai</td>\n    </tr>\n    <tr>\n      <th>2</th>\n      <td>C</td>\n      <td>NaN</td>\n      <td>Chennai</td>\n    </tr>\n    <tr>\n      <th>3</th>\n      <td>D</td>\n      <td>96.0</td>\n      <td>Assam</td>\n    </tr>\n  </tbody>\n</table>\n</div>"
     },
     "metadata": {},
     "execution_count": 9
    }
   ],
   "source": [
    "dict1 = {\n",
    "    \"name\":[\"A\",\"B\",\"C\",\"D\"],\n",
    "    \"marks\":[97,94,None,96],\n",
    "    \"city\":[\"Delhi\",\"Mumbai\",\"Chennai\",\"Assam\"]\n",
    "}\n",
    "dfdict1 = pd.DataFrame(dict1)\n",
    "dfdict1"
   ]
  },
  {
   "cell_type": "code",
   "execution_count": 10,
   "metadata": {},
   "outputs": [],
   "source": [
    "dfdict1.to_csv('export61.csv', index=False, na_rep=\"Oops!\")"
   ]
  },
  {
   "cell_type": "code",
   "execution_count": 11,
   "metadata": {},
   "outputs": [
    {
     "output_type": "execute_result",
     "data": {
      "text/plain": [
       "           marks\n",
       "count   3.000000\n",
       "mean   95.666667\n",
       "std     1.527525\n",
       "min    94.000000\n",
       "25%    95.000000\n",
       "50%    96.000000\n",
       "75%    96.500000\n",
       "max    97.000000"
      ],
      "text/html": "<div>\n<style scoped>\n    .dataframe tbody tr th:only-of-type {\n        vertical-align: middle;\n    }\n\n    .dataframe tbody tr th {\n        vertical-align: top;\n    }\n\n    .dataframe thead th {\n        text-align: right;\n    }\n</style>\n<table border=\"1\" class=\"dataframe\">\n  <thead>\n    <tr style=\"text-align: right;\">\n      <th></th>\n      <th>marks</th>\n    </tr>\n  </thead>\n  <tbody>\n    <tr>\n      <th>count</th>\n      <td>3.000000</td>\n    </tr>\n    <tr>\n      <th>mean</th>\n      <td>95.666667</td>\n    </tr>\n    <tr>\n      <th>std</th>\n      <td>1.527525</td>\n    </tr>\n    <tr>\n      <th>min</th>\n      <td>94.000000</td>\n    </tr>\n    <tr>\n      <th>25%</th>\n      <td>95.000000</td>\n    </tr>\n    <tr>\n      <th>50%</th>\n      <td>96.000000</td>\n    </tr>\n    <tr>\n      <th>75%</th>\n      <td>96.500000</td>\n    </tr>\n    <tr>\n      <th>max</th>\n      <td>97.000000</td>\n    </tr>\n  </tbody>\n</table>\n</div>"
     },
     "metadata": {},
     "execution_count": 11
    }
   ],
   "source": [
    "dfdict1.describe()   # only applicable for num entry val to get their quick report"
   ]
  },
  {
   "cell_type": "code",
   "execution_count": 12,
   "metadata": {},
   "outputs": [
    {
     "output_type": "execute_result",
     "data": {
      "text/plain": [
       "      name  marks     city\n",
       "one      A   97.0    Delhi\n",
       "two      B   94.0   Mumbai\n",
       "three    C    NaN  Chennai\n",
       "four     D   96.0    Assam"
      ],
      "text/html": "<div>\n<style scoped>\n    .dataframe tbody tr th:only-of-type {\n        vertical-align: middle;\n    }\n\n    .dataframe tbody tr th {\n        vertical-align: top;\n    }\n\n    .dataframe thead th {\n        text-align: right;\n    }\n</style>\n<table border=\"1\" class=\"dataframe\">\n  <thead>\n    <tr style=\"text-align: right;\">\n      <th></th>\n      <th>name</th>\n      <th>marks</th>\n      <th>city</th>\n    </tr>\n  </thead>\n  <tbody>\n    <tr>\n      <th>one</th>\n      <td>A</td>\n      <td>97.0</td>\n      <td>Delhi</td>\n    </tr>\n    <tr>\n      <th>two</th>\n      <td>B</td>\n      <td>94.0</td>\n      <td>Mumbai</td>\n    </tr>\n    <tr>\n      <th>three</th>\n      <td>C</td>\n      <td>NaN</td>\n      <td>Chennai</td>\n    </tr>\n    <tr>\n      <th>four</th>\n      <td>D</td>\n      <td>96.0</td>\n      <td>Assam</td>\n    </tr>\n  </tbody>\n</table>\n</div>"
     },
     "metadata": {},
     "execution_count": 12
    }
   ],
   "source": [
    "dfdict1.index = ['one','two','three','four']\n",
    "dfdict1"
   ]
  },
  {
   "cell_type": "code",
   "execution_count": null,
   "metadata": {},
   "outputs": [],
   "source": []
  }
 ]
}